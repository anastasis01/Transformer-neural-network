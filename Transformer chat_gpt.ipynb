{
 "cells": [
  {
   "cell_type": "code",
   "execution_count": 1,
   "id": "d6ee42c6",
   "metadata": {},
   "outputs": [],
   "source": [
    "#Import the libraries\n",
    "import numpy as np\n",
    "import pandas as pd\n",
    "import matplotlib.pyplot as plt\n",
    "import seaborn as sns\n",
    "%matplotlib inline"
   ]
  },
  {
   "cell_type": "code",
   "execution_count": 2,
   "id": "176e2bc1",
   "metadata": {},
   "outputs": [
    {
     "data": {
      "text/plain": [
       "(55319, 9)"
      ]
     },
     "execution_count": 2,
     "metadata": {},
     "output_type": "execute_result"
    }
   ],
   "source": [
    "df=pd.read_excel(\"Data_Sampanis.xlsx\",parse_dates=[\"Datetime UTC\"])\n",
    "df.shape"
   ]
  },
  {
   "cell_type": "code",
   "execution_count": 3,
   "id": "d82676c2",
   "metadata": {},
   "outputs": [
    {
     "data": {
      "text/html": [
       "<div>\n",
       "<style scoped>\n",
       "    .dataframe tbody tr th:only-of-type {\n",
       "        vertical-align: middle;\n",
       "    }\n",
       "\n",
       "    .dataframe tbody tr th {\n",
       "        vertical-align: top;\n",
       "    }\n",
       "\n",
       "    .dataframe thead th {\n",
       "        text-align: right;\n",
       "    }\n",
       "</style>\n",
       "<table border=\"1\" class=\"dataframe\">\n",
       "  <thead>\n",
       "    <tr style=\"text-align: right;\">\n",
       "      <th></th>\n",
       "      <th>Unnamed: 0</th>\n",
       "      <th>Datetime UTC</th>\n",
       "      <th>Datetime EET(UTC+2/UTC+3)</th>\n",
       "      <th>Wind Generation Forecast</th>\n",
       "      <th>Solar Generation Forcast</th>\n",
       "      <th>Load Forcast</th>\n",
       "      <th>Day-Ahead Price</th>\n",
       "      <th>Carbon Futures</th>\n",
       "      <th>Dutch TTF NG Futures</th>\n",
       "    </tr>\n",
       "  </thead>\n",
       "  <tbody>\n",
       "    <tr>\n",
       "      <th>0</th>\n",
       "      <td>0</td>\n",
       "      <td>2016-12-31 22:00:00+00:00</td>\n",
       "      <td>2017-01-01T00:00UTC+02</td>\n",
       "      <td>500.0</td>\n",
       "      <td>0.0</td>\n",
       "      <td>6243</td>\n",
       "      <td>51.10</td>\n",
       "      <td>6.54</td>\n",
       "      <td>19.541</td>\n",
       "    </tr>\n",
       "    <tr>\n",
       "      <th>1</th>\n",
       "      <td>1</td>\n",
       "      <td>2016-12-31 23:00:00+00:00</td>\n",
       "      <td>2017-01-01T01:00UTC+02</td>\n",
       "      <td>480.0</td>\n",
       "      <td>0.0</td>\n",
       "      <td>5793</td>\n",
       "      <td>49.41</td>\n",
       "      <td>6.54</td>\n",
       "      <td>19.541</td>\n",
       "    </tr>\n",
       "    <tr>\n",
       "      <th>2</th>\n",
       "      <td>2</td>\n",
       "      <td>2017-01-01 00:00:00+00:00</td>\n",
       "      <td>2017-01-01T02:00UTC+02</td>\n",
       "      <td>470.0</td>\n",
       "      <td>0.0</td>\n",
       "      <td>5623</td>\n",
       "      <td>49.42</td>\n",
       "      <td>6.54</td>\n",
       "      <td>19.541</td>\n",
       "    </tr>\n",
       "    <tr>\n",
       "      <th>3</th>\n",
       "      <td>3</td>\n",
       "      <td>2017-01-01 01:00:00+00:00</td>\n",
       "      <td>2017-01-01T03:00UTC+02</td>\n",
       "      <td>450.0</td>\n",
       "      <td>0.0</td>\n",
       "      <td>5294</td>\n",
       "      <td>49.45</td>\n",
       "      <td>6.54</td>\n",
       "      <td>19.541</td>\n",
       "    </tr>\n",
       "    <tr>\n",
       "      <th>4</th>\n",
       "      <td>4</td>\n",
       "      <td>2017-01-01 02:00:00+00:00</td>\n",
       "      <td>2017-01-01T04:00UTC+02</td>\n",
       "      <td>450.0</td>\n",
       "      <td>0.0</td>\n",
       "      <td>5042</td>\n",
       "      <td>48.97</td>\n",
       "      <td>6.54</td>\n",
       "      <td>19.541</td>\n",
       "    </tr>\n",
       "  </tbody>\n",
       "</table>\n",
       "</div>"
      ],
      "text/plain": [
       "   Unnamed: 0              Datetime UTC Datetime EET(UTC+2/UTC+3)  \\\n",
       "0           0 2016-12-31 22:00:00+00:00    2017-01-01T00:00UTC+02   \n",
       "1           1 2016-12-31 23:00:00+00:00    2017-01-01T01:00UTC+02   \n",
       "2           2 2017-01-01 00:00:00+00:00    2017-01-01T02:00UTC+02   \n",
       "3           3 2017-01-01 01:00:00+00:00    2017-01-01T03:00UTC+02   \n",
       "4           4 2017-01-01 02:00:00+00:00    2017-01-01T04:00UTC+02   \n",
       "\n",
       "   Wind Generation Forecast  Solar Generation Forcast  Load Forcast  \\\n",
       "0                     500.0                       0.0          6243   \n",
       "1                     480.0                       0.0          5793   \n",
       "2                     470.0                       0.0          5623   \n",
       "3                     450.0                       0.0          5294   \n",
       "4                     450.0                       0.0          5042   \n",
       "\n",
       "   Day-Ahead Price  Carbon Futures  Dutch TTF NG Futures  \n",
       "0            51.10            6.54                19.541  \n",
       "1            49.41            6.54                19.541  \n",
       "2            49.42            6.54                19.541  \n",
       "3            49.45            6.54                19.541  \n",
       "4            48.97            6.54                19.541  "
      ]
     },
     "execution_count": 3,
     "metadata": {},
     "output_type": "execute_result"
    }
   ],
   "source": [
    "df.head()"
   ]
  },
  {
   "cell_type": "code",
   "execution_count": 4,
   "id": "364e603a",
   "metadata": {},
   "outputs": [
    {
     "data": {
      "text/html": [
       "<div>\n",
       "<style scoped>\n",
       "    .dataframe tbody tr th:only-of-type {\n",
       "        vertical-align: middle;\n",
       "    }\n",
       "\n",
       "    .dataframe tbody tr th {\n",
       "        vertical-align: top;\n",
       "    }\n",
       "\n",
       "    .dataframe thead th {\n",
       "        text-align: right;\n",
       "    }\n",
       "</style>\n",
       "<table border=\"1\" class=\"dataframe\">\n",
       "  <thead>\n",
       "    <tr style=\"text-align: right;\">\n",
       "      <th></th>\n",
       "      <th>Unnamed: 0</th>\n",
       "      <th>Datetime UTC</th>\n",
       "      <th>Datetime EET(UTC+2/UTC+3)</th>\n",
       "      <th>Wind Generation Forecast</th>\n",
       "      <th>Solar Generation Forcast</th>\n",
       "      <th>Load Forcast</th>\n",
       "      <th>Day-Ahead Price</th>\n",
       "      <th>Carbon Futures</th>\n",
       "      <th>Dutch TTF NG Futures</th>\n",
       "    </tr>\n",
       "  </thead>\n",
       "  <tbody>\n",
       "    <tr>\n",
       "      <th>0</th>\n",
       "      <td>0</td>\n",
       "      <td>2016-12-31 22:00:00+00:00</td>\n",
       "      <td>2017-01-01T00:00UTC+02</td>\n",
       "      <td>500.0</td>\n",
       "      <td>0.0</td>\n",
       "      <td>6243</td>\n",
       "      <td>51.10</td>\n",
       "      <td>6.54</td>\n",
       "      <td>19.541</td>\n",
       "    </tr>\n",
       "    <tr>\n",
       "      <th>1</th>\n",
       "      <td>1</td>\n",
       "      <td>2016-12-31 23:00:00+00:00</td>\n",
       "      <td>2017-01-01T01:00UTC+02</td>\n",
       "      <td>480.0</td>\n",
       "      <td>0.0</td>\n",
       "      <td>5793</td>\n",
       "      <td>49.41</td>\n",
       "      <td>6.54</td>\n",
       "      <td>19.541</td>\n",
       "    </tr>\n",
       "    <tr>\n",
       "      <th>2</th>\n",
       "      <td>2</td>\n",
       "      <td>2017-01-01 00:00:00+00:00</td>\n",
       "      <td>2017-01-01T02:00UTC+02</td>\n",
       "      <td>470.0</td>\n",
       "      <td>0.0</td>\n",
       "      <td>5623</td>\n",
       "      <td>49.42</td>\n",
       "      <td>6.54</td>\n",
       "      <td>19.541</td>\n",
       "    </tr>\n",
       "    <tr>\n",
       "      <th>3</th>\n",
       "      <td>3</td>\n",
       "      <td>2017-01-01 01:00:00+00:00</td>\n",
       "      <td>2017-01-01T03:00UTC+02</td>\n",
       "      <td>450.0</td>\n",
       "      <td>0.0</td>\n",
       "      <td>5294</td>\n",
       "      <td>49.45</td>\n",
       "      <td>6.54</td>\n",
       "      <td>19.541</td>\n",
       "    </tr>\n",
       "    <tr>\n",
       "      <th>4</th>\n",
       "      <td>4</td>\n",
       "      <td>2017-01-01 02:00:00+00:00</td>\n",
       "      <td>2017-01-01T04:00UTC+02</td>\n",
       "      <td>450.0</td>\n",
       "      <td>0.0</td>\n",
       "      <td>5042</td>\n",
       "      <td>48.97</td>\n",
       "      <td>6.54</td>\n",
       "      <td>19.541</td>\n",
       "    </tr>\n",
       "  </tbody>\n",
       "</table>\n",
       "</div>"
      ],
      "text/plain": [
       "   Unnamed: 0              Datetime UTC Datetime EET(UTC+2/UTC+3)  \\\n",
       "0           0 2016-12-31 22:00:00+00:00    2017-01-01T00:00UTC+02   \n",
       "1           1 2016-12-31 23:00:00+00:00    2017-01-01T01:00UTC+02   \n",
       "2           2 2017-01-01 00:00:00+00:00    2017-01-01T02:00UTC+02   \n",
       "3           3 2017-01-01 01:00:00+00:00    2017-01-01T03:00UTC+02   \n",
       "4           4 2017-01-01 02:00:00+00:00    2017-01-01T04:00UTC+02   \n",
       "\n",
       "   Wind Generation Forecast  Solar Generation Forcast  Load Forcast  \\\n",
       "0                     500.0                       0.0          6243   \n",
       "1                     480.0                       0.0          5793   \n",
       "2                     470.0                       0.0          5623   \n",
       "3                     450.0                       0.0          5294   \n",
       "4                     450.0                       0.0          5042   \n",
       "\n",
       "   Day-Ahead Price  Carbon Futures  Dutch TTF NG Futures  \n",
       "0            51.10            6.54                19.541  \n",
       "1            49.41            6.54                19.541  \n",
       "2            49.42            6.54                19.541  \n",
       "3            49.45            6.54                19.541  \n",
       "4            48.97            6.54                19.541  "
      ]
     },
     "execution_count": 4,
     "metadata": {},
     "output_type": "execute_result"
    }
   ],
   "source": [
    "# Sort DataFrame in date order\n",
    "df.sort_values(by=[\"Datetime UTC\"], inplace=True, ascending=True)\n",
    "df.head()"
   ]
  },
  {
   "cell_type": "code",
   "execution_count": 5,
   "id": "ab301fee",
   "metadata": {},
   "outputs": [
    {
     "data": {
      "text/plain": [
       "Index(['Unnamed: 0', 'Datetime UTC', 'Datetime EET(UTC+2/UTC+3)',\n",
       "       'Wind Generation Forecast', 'Solar Generation Forcast', 'Load Forcast',\n",
       "       'Day-Ahead Price', 'Carbon Futures', 'Dutch TTF NG Futures'],\n",
       "      dtype='object')"
      ]
     },
     "execution_count": 5,
     "metadata": {},
     "output_type": "execute_result"
    }
   ],
   "source": [
    "df.dropna(inplace=True)\n",
    "df.columns"
   ]
  },
  {
   "cell_type": "code",
   "execution_count": 6,
   "id": "0745b10a",
   "metadata": {},
   "outputs": [],
   "source": [
    "# Add datetime parameters for Datetime UTC\n",
    "df[\"Year\"] = df[\"Datetime UTC\"].dt.year\n",
    "df[\"Month\"] = df[\"Datetime UTC\"].dt.month\n",
    "df[\"Day\"] = df[\"Datetime UTC\"].dt.day\n",
    "df[\"Dayofweek\"] = df[\"Datetime UTC\"].dt.dayofweek\n",
    "df[\"Dayofyear\"] = df[\"Datetime UTC\"].dt.dayofyear\n",
    "df[\"Hour\"]=df[\"Datetime UTC\"].dt.hour\n",
    "# Drop original date\n",
    "df.drop(\"Datetime UTC\", axis=1, inplace=True)"
   ]
  },
  {
   "cell_type": "code",
   "execution_count": 7,
   "id": "aba4b83c",
   "metadata": {},
   "outputs": [
    {
     "data": {
      "text/html": [
       "<div>\n",
       "<style scoped>\n",
       "    .dataframe tbody tr th:only-of-type {\n",
       "        vertical-align: middle;\n",
       "    }\n",
       "\n",
       "    .dataframe tbody tr th {\n",
       "        vertical-align: top;\n",
       "    }\n",
       "\n",
       "    .dataframe thead th {\n",
       "        text-align: right;\n",
       "    }\n",
       "</style>\n",
       "<table border=\"1\" class=\"dataframe\">\n",
       "  <thead>\n",
       "    <tr style=\"text-align: right;\">\n",
       "      <th></th>\n",
       "      <th>Unnamed: 0</th>\n",
       "      <th>Datetime EET(UTC+2/UTC+3)</th>\n",
       "      <th>Wind Generation Forecast</th>\n",
       "      <th>Solar Generation Forcast</th>\n",
       "      <th>Load Forcast</th>\n",
       "      <th>Day-Ahead Price</th>\n",
       "      <th>Carbon Futures</th>\n",
       "      <th>Dutch TTF NG Futures</th>\n",
       "      <th>Year</th>\n",
       "      <th>Month</th>\n",
       "      <th>Day</th>\n",
       "      <th>Dayofweek</th>\n",
       "      <th>Dayofyear</th>\n",
       "      <th>Hour</th>\n",
       "    </tr>\n",
       "  </thead>\n",
       "  <tbody>\n",
       "    <tr>\n",
       "      <th>0</th>\n",
       "      <td>0</td>\n",
       "      <td>2017-01-01T00:00UTC+02</td>\n",
       "      <td>500.0</td>\n",
       "      <td>0.0</td>\n",
       "      <td>6243</td>\n",
       "      <td>51.10</td>\n",
       "      <td>6.54</td>\n",
       "      <td>19.541</td>\n",
       "      <td>2016</td>\n",
       "      <td>12</td>\n",
       "      <td>31</td>\n",
       "      <td>5</td>\n",
       "      <td>366</td>\n",
       "      <td>22</td>\n",
       "    </tr>\n",
       "    <tr>\n",
       "      <th>1</th>\n",
       "      <td>1</td>\n",
       "      <td>2017-01-01T01:00UTC+02</td>\n",
       "      <td>480.0</td>\n",
       "      <td>0.0</td>\n",
       "      <td>5793</td>\n",
       "      <td>49.41</td>\n",
       "      <td>6.54</td>\n",
       "      <td>19.541</td>\n",
       "      <td>2016</td>\n",
       "      <td>12</td>\n",
       "      <td>31</td>\n",
       "      <td>5</td>\n",
       "      <td>366</td>\n",
       "      <td>23</td>\n",
       "    </tr>\n",
       "    <tr>\n",
       "      <th>2</th>\n",
       "      <td>2</td>\n",
       "      <td>2017-01-01T02:00UTC+02</td>\n",
       "      <td>470.0</td>\n",
       "      <td>0.0</td>\n",
       "      <td>5623</td>\n",
       "      <td>49.42</td>\n",
       "      <td>6.54</td>\n",
       "      <td>19.541</td>\n",
       "      <td>2017</td>\n",
       "      <td>1</td>\n",
       "      <td>1</td>\n",
       "      <td>6</td>\n",
       "      <td>1</td>\n",
       "      <td>0</td>\n",
       "    </tr>\n",
       "    <tr>\n",
       "      <th>3</th>\n",
       "      <td>3</td>\n",
       "      <td>2017-01-01T03:00UTC+02</td>\n",
       "      <td>450.0</td>\n",
       "      <td>0.0</td>\n",
       "      <td>5294</td>\n",
       "      <td>49.45</td>\n",
       "      <td>6.54</td>\n",
       "      <td>19.541</td>\n",
       "      <td>2017</td>\n",
       "      <td>1</td>\n",
       "      <td>1</td>\n",
       "      <td>6</td>\n",
       "      <td>1</td>\n",
       "      <td>1</td>\n",
       "    </tr>\n",
       "    <tr>\n",
       "      <th>4</th>\n",
       "      <td>4</td>\n",
       "      <td>2017-01-01T04:00UTC+02</td>\n",
       "      <td>450.0</td>\n",
       "      <td>0.0</td>\n",
       "      <td>5042</td>\n",
       "      <td>48.97</td>\n",
       "      <td>6.54</td>\n",
       "      <td>19.541</td>\n",
       "      <td>2017</td>\n",
       "      <td>1</td>\n",
       "      <td>1</td>\n",
       "      <td>6</td>\n",
       "      <td>1</td>\n",
       "      <td>2</td>\n",
       "    </tr>\n",
       "  </tbody>\n",
       "</table>\n",
       "</div>"
      ],
      "text/plain": [
       "   Unnamed: 0 Datetime EET(UTC+2/UTC+3)  Wind Generation Forecast  \\\n",
       "0           0    2017-01-01T00:00UTC+02                     500.0   \n",
       "1           1    2017-01-01T01:00UTC+02                     480.0   \n",
       "2           2    2017-01-01T02:00UTC+02                     470.0   \n",
       "3           3    2017-01-01T03:00UTC+02                     450.0   \n",
       "4           4    2017-01-01T04:00UTC+02                     450.0   \n",
       "\n",
       "   Solar Generation Forcast  Load Forcast  Day-Ahead Price  Carbon Futures  \\\n",
       "0                       0.0          6243            51.10            6.54   \n",
       "1                       0.0          5793            49.41            6.54   \n",
       "2                       0.0          5623            49.42            6.54   \n",
       "3                       0.0          5294            49.45            6.54   \n",
       "4                       0.0          5042            48.97            6.54   \n",
       "\n",
       "   Dutch TTF NG Futures  Year  Month  Day  Dayofweek  Dayofyear  Hour  \n",
       "0                19.541  2016     12   31          5        366    22  \n",
       "1                19.541  2016     12   31          5        366    23  \n",
       "2                19.541  2017      1    1          6          1     0  \n",
       "3                19.541  2017      1    1          6          1     1  \n",
       "4                19.541  2017      1    1          6          1     2  "
      ]
     },
     "execution_count": 7,
     "metadata": {},
     "output_type": "execute_result"
    }
   ],
   "source": [
    "df.head()"
   ]
  },
  {
   "cell_type": "code",
   "execution_count": 8,
   "id": "ef9e93c8",
   "metadata": {},
   "outputs": [],
   "source": [
    "# Function to return a dataframe of all spikes in a specific year\n",
    "def thres(year):\n",
    "    # Get all electricity prices\n",
    "    prices=df[df[\"Year\"]==year][\"Day-Ahead Price\"].copy()\n",
    "    prices.sort_values(ascending=True,inplace=True)\n",
    "    prices=prices.reset_index()\n",
    "    neg_thres=prices.loc[int(len(prices)*0.05)][1]\n",
    "    pos_thres=prices.loc[int(len(prices)*0.95)][1]\n",
    "    return [neg_thres,pos_thres]"
   ]
  },
  {
   "cell_type": "code",
   "execution_count": 9,
   "id": "668b56df",
   "metadata": {},
   "outputs": [],
   "source": [
    "temp={}\n",
    "for year in range(2016,2023+1):\n",
    "    temp[year]=thres(year)"
   ]
  },
  {
   "cell_type": "code",
   "execution_count": 10,
   "id": "8b3b326b",
   "metadata": {},
   "outputs": [
    {
     "data": {
      "text/plain": [
       "{2016: [49.41, 51.1],\n",
       " 2017: [38.07, 82.0],\n",
       " 2018: [41.52, 76.2],\n",
       " 2019: [39.66, 80.65],\n",
       " 2020: [22.0, 76.03],\n",
       " 2021: [41.6, 270.33],\n",
       " 2022: [139.95, 503.86],\n",
       " 2023: [59.27, 261.22]}"
      ]
     },
     "execution_count": 10,
     "metadata": {},
     "output_type": "execute_result"
    }
   ],
   "source": [
    "temp"
   ]
  },
  {
   "cell_type": "code",
   "execution_count": 11,
   "id": "b2698b15",
   "metadata": {},
   "outputs": [],
   "source": [
    "# Function that returns 1 for spike\n",
    "def is_spike(price,year):\n",
    "    if (price<temp[year][0] or price>temp[year][1]):\n",
    "        return 1\n",
    "    else:\n",
    "        return 0"
   ]
  },
  {
   "cell_type": "markdown",
   "id": "642fb289",
   "metadata": {},
   "source": [
    "### We will add a column to the dataframe, which indicates whether the price is a spike (1) or not (0)"
   ]
  },
  {
   "cell_type": "code",
   "execution_count": 12,
   "id": "035269e8",
   "metadata": {},
   "outputs": [],
   "source": [
    "df['Spike'] = df.apply(lambda x: is_spike(x['Day-Ahead Price'],x['Year']), axis=1)"
   ]
  },
  {
   "cell_type": "code",
   "execution_count": 13,
   "id": "41932ac4",
   "metadata": {},
   "outputs": [
    {
     "data": {
      "text/html": [
       "<div>\n",
       "<style scoped>\n",
       "    .dataframe tbody tr th:only-of-type {\n",
       "        vertical-align: middle;\n",
       "    }\n",
       "\n",
       "    .dataframe tbody tr th {\n",
       "        vertical-align: top;\n",
       "    }\n",
       "\n",
       "    .dataframe thead th {\n",
       "        text-align: right;\n",
       "    }\n",
       "</style>\n",
       "<table border=\"1\" class=\"dataframe\">\n",
       "  <thead>\n",
       "    <tr style=\"text-align: right;\">\n",
       "      <th></th>\n",
       "      <th>Unnamed: 0</th>\n",
       "      <th>Datetime EET(UTC+2/UTC+3)</th>\n",
       "      <th>Wind Generation Forecast</th>\n",
       "      <th>Solar Generation Forcast</th>\n",
       "      <th>Load Forcast</th>\n",
       "      <th>Day-Ahead Price</th>\n",
       "      <th>Carbon Futures</th>\n",
       "      <th>Dutch TTF NG Futures</th>\n",
       "      <th>Year</th>\n",
       "      <th>Month</th>\n",
       "      <th>Day</th>\n",
       "      <th>Dayofweek</th>\n",
       "      <th>Dayofyear</th>\n",
       "      <th>Hour</th>\n",
       "      <th>Spike</th>\n",
       "    </tr>\n",
       "  </thead>\n",
       "  <tbody>\n",
       "    <tr>\n",
       "      <th>0</th>\n",
       "      <td>0</td>\n",
       "      <td>2017-01-01T00:00UTC+02</td>\n",
       "      <td>500.0</td>\n",
       "      <td>0.0</td>\n",
       "      <td>6243</td>\n",
       "      <td>51.10</td>\n",
       "      <td>6.54</td>\n",
       "      <td>19.541</td>\n",
       "      <td>2016</td>\n",
       "      <td>12</td>\n",
       "      <td>31</td>\n",
       "      <td>5</td>\n",
       "      <td>366</td>\n",
       "      <td>22</td>\n",
       "      <td>0</td>\n",
       "    </tr>\n",
       "    <tr>\n",
       "      <th>1</th>\n",
       "      <td>1</td>\n",
       "      <td>2017-01-01T01:00UTC+02</td>\n",
       "      <td>480.0</td>\n",
       "      <td>0.0</td>\n",
       "      <td>5793</td>\n",
       "      <td>49.41</td>\n",
       "      <td>6.54</td>\n",
       "      <td>19.541</td>\n",
       "      <td>2016</td>\n",
       "      <td>12</td>\n",
       "      <td>31</td>\n",
       "      <td>5</td>\n",
       "      <td>366</td>\n",
       "      <td>23</td>\n",
       "      <td>0</td>\n",
       "    </tr>\n",
       "    <tr>\n",
       "      <th>2</th>\n",
       "      <td>2</td>\n",
       "      <td>2017-01-01T02:00UTC+02</td>\n",
       "      <td>470.0</td>\n",
       "      <td>0.0</td>\n",
       "      <td>5623</td>\n",
       "      <td>49.42</td>\n",
       "      <td>6.54</td>\n",
       "      <td>19.541</td>\n",
       "      <td>2017</td>\n",
       "      <td>1</td>\n",
       "      <td>1</td>\n",
       "      <td>6</td>\n",
       "      <td>1</td>\n",
       "      <td>0</td>\n",
       "      <td>0</td>\n",
       "    </tr>\n",
       "    <tr>\n",
       "      <th>3</th>\n",
       "      <td>3</td>\n",
       "      <td>2017-01-01T03:00UTC+02</td>\n",
       "      <td>450.0</td>\n",
       "      <td>0.0</td>\n",
       "      <td>5294</td>\n",
       "      <td>49.45</td>\n",
       "      <td>6.54</td>\n",
       "      <td>19.541</td>\n",
       "      <td>2017</td>\n",
       "      <td>1</td>\n",
       "      <td>1</td>\n",
       "      <td>6</td>\n",
       "      <td>1</td>\n",
       "      <td>1</td>\n",
       "      <td>0</td>\n",
       "    </tr>\n",
       "    <tr>\n",
       "      <th>4</th>\n",
       "      <td>4</td>\n",
       "      <td>2017-01-01T04:00UTC+02</td>\n",
       "      <td>450.0</td>\n",
       "      <td>0.0</td>\n",
       "      <td>5042</td>\n",
       "      <td>48.97</td>\n",
       "      <td>6.54</td>\n",
       "      <td>19.541</td>\n",
       "      <td>2017</td>\n",
       "      <td>1</td>\n",
       "      <td>1</td>\n",
       "      <td>6</td>\n",
       "      <td>1</td>\n",
       "      <td>2</td>\n",
       "      <td>0</td>\n",
       "    </tr>\n",
       "  </tbody>\n",
       "</table>\n",
       "</div>"
      ],
      "text/plain": [
       "   Unnamed: 0 Datetime EET(UTC+2/UTC+3)  Wind Generation Forecast  \\\n",
       "0           0    2017-01-01T00:00UTC+02                     500.0   \n",
       "1           1    2017-01-01T01:00UTC+02                     480.0   \n",
       "2           2    2017-01-01T02:00UTC+02                     470.0   \n",
       "3           3    2017-01-01T03:00UTC+02                     450.0   \n",
       "4           4    2017-01-01T04:00UTC+02                     450.0   \n",
       "\n",
       "   Solar Generation Forcast  Load Forcast  Day-Ahead Price  Carbon Futures  \\\n",
       "0                       0.0          6243            51.10            6.54   \n",
       "1                       0.0          5793            49.41            6.54   \n",
       "2                       0.0          5623            49.42            6.54   \n",
       "3                       0.0          5294            49.45            6.54   \n",
       "4                       0.0          5042            48.97            6.54   \n",
       "\n",
       "   Dutch TTF NG Futures  Year  Month  Day  Dayofweek  Dayofyear  Hour  Spike  \n",
       "0                19.541  2016     12   31          5        366    22      0  \n",
       "1                19.541  2016     12   31          5        366    23      0  \n",
       "2                19.541  2017      1    1          6          1     0      0  \n",
       "3                19.541  2017      1    1          6          1     1      0  \n",
       "4                19.541  2017      1    1          6          1     2      0  "
      ]
     },
     "execution_count": 13,
     "metadata": {},
     "output_type": "execute_result"
    }
   ],
   "source": [
    "df.head()"
   ]
  },
  {
   "cell_type": "code",
   "execution_count": 14,
   "id": "4afb6cd3",
   "metadata": {},
   "outputs": [
    {
     "data": {
      "text/plain": [
       "5345"
      ]
     },
     "execution_count": 14,
     "metadata": {},
     "output_type": "execute_result"
    }
   ],
   "source": [
    "df['Spike'].sum()"
   ]
  },
  {
   "cell_type": "markdown",
   "id": "3b37db7b",
   "metadata": {},
   "source": [
    "### Now our target is the Spike variable"
   ]
  },
  {
   "cell_type": "code",
   "execution_count": 15,
   "id": "f22f5e5c",
   "metadata": {},
   "outputs": [],
   "source": [
    "df1=df.copy()\n",
    "df1.drop(['Day-Ahead Price'],axis=1,inplace=True)"
   ]
  },
  {
   "cell_type": "code",
   "execution_count": 16,
   "id": "9dea1a33",
   "metadata": {},
   "outputs": [
    {
     "data": {
      "text/html": [
       "<div>\n",
       "<style scoped>\n",
       "    .dataframe tbody tr th:only-of-type {\n",
       "        vertical-align: middle;\n",
       "    }\n",
       "\n",
       "    .dataframe tbody tr th {\n",
       "        vertical-align: top;\n",
       "    }\n",
       "\n",
       "    .dataframe thead th {\n",
       "        text-align: right;\n",
       "    }\n",
       "</style>\n",
       "<table border=\"1\" class=\"dataframe\">\n",
       "  <thead>\n",
       "    <tr style=\"text-align: right;\">\n",
       "      <th></th>\n",
       "      <th>Unnamed: 0</th>\n",
       "      <th>Datetime EET(UTC+2/UTC+3)</th>\n",
       "      <th>Wind Generation Forecast</th>\n",
       "      <th>Solar Generation Forcast</th>\n",
       "      <th>Load Forcast</th>\n",
       "      <th>Carbon Futures</th>\n",
       "      <th>Dutch TTF NG Futures</th>\n",
       "      <th>Year</th>\n",
       "      <th>Month</th>\n",
       "      <th>Day</th>\n",
       "      <th>Dayofweek</th>\n",
       "      <th>Dayofyear</th>\n",
       "      <th>Hour</th>\n",
       "      <th>Spike</th>\n",
       "    </tr>\n",
       "  </thead>\n",
       "  <tbody>\n",
       "    <tr>\n",
       "      <th>0</th>\n",
       "      <td>0</td>\n",
       "      <td>2017-01-01T00:00UTC+02</td>\n",
       "      <td>500.0</td>\n",
       "      <td>0.0</td>\n",
       "      <td>6243</td>\n",
       "      <td>6.54</td>\n",
       "      <td>19.541</td>\n",
       "      <td>2016</td>\n",
       "      <td>12</td>\n",
       "      <td>31</td>\n",
       "      <td>5</td>\n",
       "      <td>366</td>\n",
       "      <td>22</td>\n",
       "      <td>0</td>\n",
       "    </tr>\n",
       "    <tr>\n",
       "      <th>1</th>\n",
       "      <td>1</td>\n",
       "      <td>2017-01-01T01:00UTC+02</td>\n",
       "      <td>480.0</td>\n",
       "      <td>0.0</td>\n",
       "      <td>5793</td>\n",
       "      <td>6.54</td>\n",
       "      <td>19.541</td>\n",
       "      <td>2016</td>\n",
       "      <td>12</td>\n",
       "      <td>31</td>\n",
       "      <td>5</td>\n",
       "      <td>366</td>\n",
       "      <td>23</td>\n",
       "      <td>0</td>\n",
       "    </tr>\n",
       "    <tr>\n",
       "      <th>2</th>\n",
       "      <td>2</td>\n",
       "      <td>2017-01-01T02:00UTC+02</td>\n",
       "      <td>470.0</td>\n",
       "      <td>0.0</td>\n",
       "      <td>5623</td>\n",
       "      <td>6.54</td>\n",
       "      <td>19.541</td>\n",
       "      <td>2017</td>\n",
       "      <td>1</td>\n",
       "      <td>1</td>\n",
       "      <td>6</td>\n",
       "      <td>1</td>\n",
       "      <td>0</td>\n",
       "      <td>0</td>\n",
       "    </tr>\n",
       "    <tr>\n",
       "      <th>3</th>\n",
       "      <td>3</td>\n",
       "      <td>2017-01-01T03:00UTC+02</td>\n",
       "      <td>450.0</td>\n",
       "      <td>0.0</td>\n",
       "      <td>5294</td>\n",
       "      <td>6.54</td>\n",
       "      <td>19.541</td>\n",
       "      <td>2017</td>\n",
       "      <td>1</td>\n",
       "      <td>1</td>\n",
       "      <td>6</td>\n",
       "      <td>1</td>\n",
       "      <td>1</td>\n",
       "      <td>0</td>\n",
       "    </tr>\n",
       "    <tr>\n",
       "      <th>4</th>\n",
       "      <td>4</td>\n",
       "      <td>2017-01-01T04:00UTC+02</td>\n",
       "      <td>450.0</td>\n",
       "      <td>0.0</td>\n",
       "      <td>5042</td>\n",
       "      <td>6.54</td>\n",
       "      <td>19.541</td>\n",
       "      <td>2017</td>\n",
       "      <td>1</td>\n",
       "      <td>1</td>\n",
       "      <td>6</td>\n",
       "      <td>1</td>\n",
       "      <td>2</td>\n",
       "      <td>0</td>\n",
       "    </tr>\n",
       "  </tbody>\n",
       "</table>\n",
       "</div>"
      ],
      "text/plain": [
       "   Unnamed: 0 Datetime EET(UTC+2/UTC+3)  Wind Generation Forecast  \\\n",
       "0           0    2017-01-01T00:00UTC+02                     500.0   \n",
       "1           1    2017-01-01T01:00UTC+02                     480.0   \n",
       "2           2    2017-01-01T02:00UTC+02                     470.0   \n",
       "3           3    2017-01-01T03:00UTC+02                     450.0   \n",
       "4           4    2017-01-01T04:00UTC+02                     450.0   \n",
       "\n",
       "   Solar Generation Forcast  Load Forcast  Carbon Futures  \\\n",
       "0                       0.0          6243            6.54   \n",
       "1                       0.0          5793            6.54   \n",
       "2                       0.0          5623            6.54   \n",
       "3                       0.0          5294            6.54   \n",
       "4                       0.0          5042            6.54   \n",
       "\n",
       "   Dutch TTF NG Futures  Year  Month  Day  Dayofweek  Dayofyear  Hour  Spike  \n",
       "0                19.541  2016     12   31          5        366    22      0  \n",
       "1                19.541  2016     12   31          5        366    23      0  \n",
       "2                19.541  2017      1    1          6          1     0      0  \n",
       "3                19.541  2017      1    1          6          1     1      0  \n",
       "4                19.541  2017      1    1          6          1     2      0  "
      ]
     },
     "execution_count": 16,
     "metadata": {},
     "output_type": "execute_result"
    }
   ],
   "source": [
    "df1.head()"
   ]
  },
  {
   "cell_type": "markdown",
   "id": "387dccbe",
   "metadata": {},
   "source": [
    "### Split the data into X & Y"
   ]
  },
  {
   "cell_type": "code",
   "execution_count": 17,
   "id": "21b454b4",
   "metadata": {},
   "outputs": [],
   "source": [
    "X=df1.drop([\"Spike\",\"Unnamed: 0\",\"Datetime EET(UTC+2/UTC+3)\"],axis=1)\n",
    "y=df1[\"Spike\"]"
   ]
  },
  {
   "cell_type": "code",
   "execution_count": 18,
   "id": "e67c116f",
   "metadata": {},
   "outputs": [
    {
     "name": "stdout",
     "output_type": "stream",
     "text": [
      "Epoch 1/10\n",
      "1341/1341 [==============================] - 170s 116ms/step - loss: 0.3297 - accuracy: 0.8998 - val_loss: 0.3180 - val_accuracy: 0.9023\n",
      "Epoch 2/10\n",
      "1341/1341 [==============================] - 98s 73ms/step - loss: 0.3241 - accuracy: 0.8998 - val_loss: 0.3102 - val_accuracy: 0.9023\n",
      "Epoch 3/10\n",
      "1341/1341 [==============================] - 101s 75ms/step - loss: 0.3205 - accuracy: 0.8998 - val_loss: 0.3098 - val_accuracy: 0.9023\n",
      "Epoch 4/10\n",
      "1341/1341 [==============================] - 64s 48ms/step - loss: 0.3160 - accuracy: 0.8998 - val_loss: 0.3000 - val_accuracy: 0.9023\n",
      "Epoch 5/10\n",
      "1341/1341 [==============================] - 63s 47ms/step - loss: 0.3120 - accuracy: 0.8999 - val_loss: 0.3068 - val_accuracy: 0.9023\n",
      "Epoch 6/10\n",
      "1341/1341 [==============================] - 66s 49ms/step - loss: 0.3087 - accuracy: 0.8999 - val_loss: 0.2954 - val_accuracy: 0.9022\n",
      "Epoch 7/10\n",
      "1341/1341 [==============================] - 65s 48ms/step - loss: 0.3073 - accuracy: 0.8998 - val_loss: 0.2940 - val_accuracy: 0.9027\n",
      "Epoch 8/10\n",
      "1341/1341 [==============================] - 65s 48ms/step - loss: 0.3040 - accuracy: 0.8999 - val_loss: 0.2915 - val_accuracy: 0.9030\n",
      "Epoch 9/10\n",
      "1341/1341 [==============================] - 63s 47ms/step - loss: 0.3034 - accuracy: 0.8999 - val_loss: 0.2925 - val_accuracy: 0.9011\n",
      "Epoch 10/10\n",
      "1341/1341 [==============================] - 63s 47ms/step - loss: 0.3007 - accuracy: 0.9002 - val_loss: 0.2876 - val_accuracy: 0.9026\n",
      "336/336 [==============================] - 5s 15ms/step - loss: 0.2876 - accuracy: 0.9026\n",
      "Validation Loss: 0.2876228094100952, Validation Accuracy: 0.902591347694397\n"
     ]
    }
   ],
   "source": [
    "import tensorflow as tf\n",
    "from sklearn.model_selection import train_test_split\n",
    "\n",
    "# Assuming X_num represents your numerical feature data and y represents your labels\n",
    "X_train, X_val, y_train, y_val = train_test_split(X, y, test_size=0.2, random_state=42)\n",
    "X_train_sequence=X_train.values.tolist()\n",
    "for i in range (len(X_train_sequence)):\n",
    "    for j in range(11):\n",
    "        X_train_sequence[i][j]=[X_train_sequence[i][j]]\n",
    "X_train=np.array(X_train_sequence)\n",
    "y_train_sequence=y_train.values.tolist()\n",
    "y_train=np.array(y_train_sequence)\n",
    "\n",
    "\n",
    "X_val_sequence=X_val.values.tolist()\n",
    "for i in range (len(X_val_sequence)):\n",
    "    for j in range(11):\n",
    "        X_val_sequence[i][j]=[X_val_sequence[i][j]]\n",
    "X_val=np.array(X_val_sequence)\n",
    "y_val_sequence=y_val.values.tolist()\n",
    "y_val=np.array(y_val_sequence)\n",
    "\n",
    "\n",
    "\n",
    "# Define the custom Transformer-based model architecture\n",
    "class TransformerClassifier(tf.keras.Model):\n",
    "    def __init__(self, num_layers, d_model, num_heads, dff, input_shape, num_classes, rate=0.1):\n",
    "        super(TransformerClassifier, self).__init__()\n",
    "        self.num_layers = num_layers\n",
    "        \n",
    "        # Embedding layer for numerical features\n",
    "        self.embedding = tf.keras.layers.Dense(d_model, input_shape=input_shape)\n",
    "        \n",
    "        # Transformer layers\n",
    "        self.encoder_layers = [TransformerEncoderLayer(d_model, num_heads, dff, rate) \n",
    "                               for _ in range(num_layers)]\n",
    "        \n",
    "        # Final classification layer\n",
    "        self.flatten = tf.keras.layers.Flatten()\n",
    "        self.final_layer = tf.keras.layers.Dense(num_classes, activation='sigmoid')\n",
    "        \n",
    "    def call(self, inputs, training=True):\n",
    "        x = self.embedding(inputs)\n",
    "        \n",
    "        # Pass through Transformer layers\n",
    "        for i in range(self.num_layers):\n",
    "            x = self.encoder_layers[i](x, training=training)\n",
    "        \n",
    "        x = self.flatten(x)\n",
    "        output = self.final_layer(x)\n",
    "        return output\n",
    "\n",
    "class TransformerEncoderLayer(tf.keras.layers.Layer):\n",
    "    def __init__(self, d_model, num_heads, dff, rate=0.1):\n",
    "        super(TransformerEncoderLayer, self).__init__()\n",
    "\n",
    "        self.mha = tf.keras.layers.MultiHeadAttention(num_heads=num_heads, key_dim=d_model)\n",
    "        self.ffn = tf.keras.Sequential([\n",
    "            tf.keras.layers.Dense(dff, activation='relu'),\n",
    "            tf.keras.layers.Dense(d_model)\n",
    "        ])\n",
    "        \n",
    "        self.layernorm1 = tf.keras.layers.LayerNormalization(epsilon=1e-6)\n",
    "        self.layernorm2 = tf.keras.layers.LayerNormalization(epsilon=1e-6)\n",
    "        \n",
    "        self.dropout1 = tf.keras.layers.Dropout(rate)\n",
    "        self.dropout2 = tf.keras.layers.Dropout(rate)\n",
    "        \n",
    "    def call(self, x, training=True):\n",
    "        attn_output = self.mha(x, x, x)\n",
    "        attn_output = self.dropout1(attn_output, training=training)\n",
    "        out1 = self.layernorm1(x + attn_output)\n",
    "        \n",
    "        ffn_output = self.ffn(out1)\n",
    "        ffn_output = self.dropout2(ffn_output, training=training)\n",
    "        out2 = self.layernorm2(out1 + ffn_output)\n",
    "        \n",
    "        return out2\n",
    "\n",
    "# Parameters for the Transformer model\n",
    "num_layers = 4\n",
    "d_model = 64\n",
    "num_heads = 4\n",
    "dff = 128\n",
    "input_shape = X_train.shape[1:]\n",
    "num_classes = 1  # Binary classification\n",
    "\n",
    "# Instantiate the Transformer-based model\n",
    "model = TransformerClassifier(num_layers, d_model, num_heads, dff, input_shape, num_classes)\n",
    "\n",
    "# Compile the model\n",
    "optimizer = tf.keras.optimizers.Adam(learning_rate=1e-4)\n",
    "model.compile(optimizer=optimizer, loss='binary_crossentropy', metrics=['accuracy'])\n",
    "\n",
    "# Train the model\n",
    "history = model.fit(\n",
    "    X_train, y_train,\n",
    "    validation_data=(X_val, y_val),\n",
    "    epochs=10,\n",
    "    batch_size=32\n",
    ")\n",
    "\n",
    "# Evaluate the model\n",
    "loss, accuracy = model.evaluate(X_val, y_val)\n",
    "print(f'Validation Loss: {loss}, Validation Accuracy: {accuracy}')\n"
   ]
  },
  {
   "cell_type": "code",
   "execution_count": 19,
   "id": "654da5b2",
   "metadata": {},
   "outputs": [
    {
     "name": "stdout",
     "output_type": "stream",
     "text": [
      "336/336 [==============================] - 7s 15ms/step\n"
     ]
    }
   ],
   "source": [
    "predictions=model.predict(X_val)"
   ]
  },
  {
   "cell_type": "code",
   "execution_count": 20,
   "id": "134a44c9",
   "metadata": {},
   "outputs": [
    {
     "data": {
      "text/plain": [
       "array([[0.03474154],\n",
       "       [0.04675529],\n",
       "       [0.13920002],\n",
       "       ...,\n",
       "       [0.1155389 ],\n",
       "       [0.08573584],\n",
       "       [0.05086691]], dtype=float32)"
      ]
     },
     "execution_count": 20,
     "metadata": {},
     "output_type": "execute_result"
    }
   ],
   "source": [
    "predictions"
   ]
  },
  {
   "cell_type": "code",
   "execution_count": 27,
   "id": "2ce1c262",
   "metadata": {},
   "outputs": [
    {
     "data": {
      "text/plain": [
       "array([[0],\n",
       "       [0],\n",
       "       [0],\n",
       "       [0],\n",
       "       [0],\n",
       "       [0],\n",
       "       [0],\n",
       "       [0],\n",
       "       [0],\n",
       "       [0],\n",
       "       [0],\n",
       "       [0],\n",
       "       [0],\n",
       "       [0],\n",
       "       [0],\n",
       "       [0],\n",
       "       [0],\n",
       "       [0],\n",
       "       [0],\n",
       "       [0],\n",
       "       [0],\n",
       "       [0],\n",
       "       [0],\n",
       "       [0],\n",
       "       [0],\n",
       "       [0],\n",
       "       [0],\n",
       "       [0],\n",
       "       [0],\n",
       "       [0]])"
      ]
     },
     "execution_count": 27,
     "metadata": {},
     "output_type": "execute_result"
    }
   ],
   "source": [
    "# Threshold for classification\n",
    "threshold = 0.5\n",
    "\n",
    "# Convert probabilities to binary predictions\n",
    "predictions = (predictions >= threshold).astype(int)\n",
    "\n",
    "predictions[:30]\n"
   ]
  },
  {
   "cell_type": "code",
   "execution_count": 28,
   "id": "4327baf6",
   "metadata": {},
   "outputs": [
    {
     "data": {
      "text/plain": [
       "array([0, 0, 0, 0, 0, 0, 1, 0, 0, 0, 1, 1, 0, 0, 0, 0, 0, 0, 0, 0, 0, 0,\n",
       "       0, 0, 0, 0, 0, 0, 0, 0])"
      ]
     },
     "execution_count": 28,
     "metadata": {},
     "output_type": "execute_result"
    }
   ],
   "source": [
    "y_val[:30]"
   ]
  },
  {
   "cell_type": "code",
   "execution_count": 29,
   "id": "feaa8ff0",
   "metadata": {},
   "outputs": [
    {
     "name": "stdout",
     "output_type": "stream",
     "text": [
      "Accuracy:  0.9025913497390008\n"
     ]
    }
   ],
   "source": [
    "# Calculate accuracy \n",
    "from sklearn.metrics import accuracy_score,classification_report\n",
    "accuracy=accuracy_score(y_val,predictions)\n",
    "print(\"Accuracy: \",accuracy)"
   ]
  },
  {
   "cell_type": "code",
   "execution_count": 33,
   "id": "2f7b7bc6",
   "metadata": {},
   "outputs": [
    {
     "name": "stdout",
     "output_type": "stream",
     "text": [
      "Classification Report\n",
      "              precision    recall  f1-score   support\n",
      "\n",
      "           0       0.90      1.00      0.95      9680\n",
      "           1       0.64      0.01      0.01      1048\n",
      "\n",
      "    accuracy                           0.90     10728\n",
      "   macro avg       0.77      0.50      0.48     10728\n",
      "weighted avg       0.88      0.90      0.86     10728\n",
      "\n"
     ]
    }
   ],
   "source": [
    "print(\"Classification Report\")\n",
    "print(classification_report(y_val,predictions))"
   ]
  },
  {
   "cell_type": "code",
   "execution_count": 35,
   "id": "4a5ec019",
   "metadata": {},
   "outputs": [
    {
     "name": "stdout",
     "output_type": "stream",
     "text": [
      "336/336 [==============================] - 5s 16ms/step\n"
     ]
    },
    {
     "data": {
      "image/png": "[encoded data removed]",
      "text/plain": [
       "<Figure size 640x480 with 1 Axes>"
      ]
     },
     "metadata": {},
     "output_type": "display_data"
    }
   ],
   "source": [
    "from sklearn.metrics import roc_curve, auc\n",
    "import matplotlib.pyplot as plt\n",
    "\n",
    " \n",
    "probabilities=model.predict(X_val)\n",
    "# Compute ROC curve\n",
    "fpr, tpr, thresholds = roc_curve(y_val, probabilities)\n",
    "\n",
    "# Compute AUC (Area Under the Curve)\n",
    "roc_auc = auc(fpr, tpr)\n",
    "\n",
    "# Plot ROC curve\n",
    "plt.figure()\n",
    "plt.plot(fpr, tpr, color='darkorange', lw=2, label='ROC curve (area = %0.2f)' % roc_auc)\n",
    "plt.plot([0, 1], [0, 1], color='navy', lw=2, linestyle='--')\n",
    "plt.xlim([0.0, 1.0])\n",
    "plt.ylim([0.0, 1.05])\n",
    "plt.xlabel('False Positive Rate')\n",
    "plt.ylabel('True Positive Rate')\n",
    "plt.title('Receiver Operating Characteristic (ROC) Curve')\n",
    "plt.legend(loc=\"lower right\")\n",
    "plt.show()"
   ]
  },
  {
   "cell_type": "code",
   "execution_count": 37,
   "id": "6d6d157c",
   "metadata": {},
   "outputs": [],
   "source": [
    "import pickle"
   ]
  },
  {
   "cell_type": "code",
   "execution_count": 38,
   "id": "b83326af",
   "metadata": {},
   "outputs": [
    {
     "name": "stderr",
     "output_type": "stream",
     "text": [
      "WARNING:absl:Found untraced functions such as multi_head_attention_layer_call_fn, multi_head_attention_layer_call_and_return_conditional_losses, layer_normalization_layer_call_fn, layer_normalization_layer_call_and_return_conditional_losses, layer_normalization_1_layer_call_fn while saving (showing 5 of 88). These functions will not be directly callable after loading.\n"
     ]
    },
    {
     "name": "stdout",
     "output_type": "stream",
     "text": [
      "INFO:tensorflow:Assets written to: ram://c4aa203c-0b7e-4d8f-9e59-ee021e9bc787/assets\n"
     ]
    },
    {
     "name": "stderr",
     "output_type": "stream",
     "text": [
      "INFO:tensorflow:Assets written to: ram://c4aa203c-0b7e-4d8f-9e59-ee021e9bc787/assets\n"
     ]
    }
   ],
   "source": [
    "with open('model_filename.pkl', 'wb') as file:\n",
    "    pickle.dump(model, file)"
   ]
  },
  {
   "cell_type": "code",
   "execution_count": null,
   "id": "94962dd3",
   "metadata": {},
   "outputs": [],
   "source": []
  }
 ],
 "metadata": {
  "kernelspec": {
   "display_name": "Python 3 (ipykernel)",
   "language": "python",
   "name": "python3"
  },
  "language_info": {
   "codemirror_mode": {
    "name": "ipython",
    "version": 3
   },
   "file_extension": ".py",
   "mimetype": "text/x-python",
   "name": "python",
   "nbconvert_exporter": "python",
   "pygments_lexer": "ipython3",
   "version": "3.10.12"
  }
 },
 "nbformat": 4,
 "nbformat_minor": 5
}
