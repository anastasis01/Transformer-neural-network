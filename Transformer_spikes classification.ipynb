{
 "cells": [
  {
   "cell_type": "code",
   "execution_count": 27,
   "id": "7408dde1",
   "metadata": {},
   "outputs": [],
   "source": [
    "#Import the libraries\n",
    "import numpy as np\n",
    "import pandas as pd\n",
    "import matplotlib.pyplot as plt\n",
    "import seaborn as sns\n",
    "%matplotlib inline"
   ]
  },
  {
   "cell_type": "code",
   "execution_count": 28,
   "id": "2d3e06b5",
   "metadata": {},
   "outputs": [
    {
     "data": {
      "text/plain": [
       "(55319, 9)"
      ]
     },
     "execution_count": 28,
     "metadata": {},
     "output_type": "execute_result"
    }
   ],
   "source": [
    "df=pd.read_excel(\"Data_Sampanis.xlsx\",parse_dates=[\"Datetime UTC\"])\n",
    "df.shape"
   ]
  },
  {
   "cell_type": "code",
   "execution_count": 29,
   "id": "8e5efb32",
   "metadata": {},
   "outputs": [
    {
     "data": {
      "text/html": [
       "<div>\n",
       "<style scoped>\n",
       "    .dataframe tbody tr th:only-of-type {\n",
       "        vertical-align: middle;\n",
       "    }\n",
       "\n",
       "    .dataframe tbody tr th {\n",
       "        vertical-align: top;\n",
       "    }\n",
       "\n",
       "    .dataframe thead th {\n",
       "        text-align: right;\n",
       "    }\n",
       "</style>\n",
       "<table border=\"1\" class=\"dataframe\">\n",
       "  <thead>\n",
       "    <tr style=\"text-align: right;\">\n",
       "      <th></th>\n",
       "      <th>Unnamed: 0</th>\n",
       "      <th>Datetime UTC</th>\n",
       "      <th>Datetime EET(UTC+2/UTC+3)</th>\n",
       "      <th>Wind Generation Forecast</th>\n",
       "      <th>Solar Generation Forcast</th>\n",
       "      <th>Load Forcast</th>\n",
       "      <th>Day-Ahead Price</th>\n",
       "      <th>Carbon Futures</th>\n",
       "      <th>Dutch TTF NG Futures</th>\n",
       "    </tr>\n",
       "  </thead>\n",
       "  <tbody>\n",
       "    <tr>\n",
       "      <th>0</th>\n",
       "      <td>0</td>\n",
       "      <td>2016-12-31 22:00:00+00:00</td>\n",
       "      <td>2017-01-01T00:00UTC+02</td>\n",
       "      <td>500.0</td>\n",
       "      <td>0.0</td>\n",
       "      <td>6243</td>\n",
       "      <td>51.10</td>\n",
       "      <td>6.54</td>\n",
       "      <td>19.541</td>\n",
       "    </tr>\n",
       "    <tr>\n",
       "      <th>1</th>\n",
       "      <td>1</td>\n",
       "      <td>2016-12-31 23:00:00+00:00</td>\n",
       "      <td>2017-01-01T01:00UTC+02</td>\n",
       "      <td>480.0</td>\n",
       "      <td>0.0</td>\n",
       "      <td>5793</td>\n",
       "      <td>49.41</td>\n",
       "      <td>6.54</td>\n",
       "      <td>19.541</td>\n",
       "    </tr>\n",
       "    <tr>\n",
       "      <th>2</th>\n",
       "      <td>2</td>\n",
       "      <td>2017-01-01 00:00:00+00:00</td>\n",
       "      <td>2017-01-01T02:00UTC+02</td>\n",
       "      <td>470.0</td>\n",
       "      <td>0.0</td>\n",
       "      <td>5623</td>\n",
       "      <td>49.42</td>\n",
       "      <td>6.54</td>\n",
       "      <td>19.541</td>\n",
       "    </tr>\n",
       "    <tr>\n",
       "      <th>3</th>\n",
       "      <td>3</td>\n",
       "      <td>2017-01-01 01:00:00+00:00</td>\n",
       "      <td>2017-01-01T03:00UTC+02</td>\n",
       "      <td>450.0</td>\n",
       "      <td>0.0</td>\n",
       "      <td>5294</td>\n",
       "      <td>49.45</td>\n",
       "      <td>6.54</td>\n",
       "      <td>19.541</td>\n",
       "    </tr>\n",
       "    <tr>\n",
       "      <th>4</th>\n",
       "      <td>4</td>\n",
       "      <td>2017-01-01 02:00:00+00:00</td>\n",
       "      <td>2017-01-01T04:00UTC+02</td>\n",
       "      <td>450.0</td>\n",
       "      <td>0.0</td>\n",
       "      <td>5042</td>\n",
       "      <td>48.97</td>\n",
       "      <td>6.54</td>\n",
       "      <td>19.541</td>\n",
       "    </tr>\n",
       "  </tbody>\n",
       "</table>\n",
       "</div>"
      ],
      "text/plain": [
       "   Unnamed: 0              Datetime UTC Datetime EET(UTC+2/UTC+3)  \\\n",
       "0           0 2016-12-31 22:00:00+00:00    2017-01-01T00:00UTC+02   \n",
       "1           1 2016-12-31 23:00:00+00:00    2017-01-01T01:00UTC+02   \n",
       "2           2 2017-01-01 00:00:00+00:00    2017-01-01T02:00UTC+02   \n",
       "3           3 2017-01-01 01:00:00+00:00    2017-01-01T03:00UTC+02   \n",
       "4           4 2017-01-01 02:00:00+00:00    2017-01-01T04:00UTC+02   \n",
       "\n",
       "   Wind Generation Forecast  Solar Generation Forcast  Load Forcast  \\\n",
       "0                     500.0                       0.0          6243   \n",
       "1                     480.0                       0.0          5793   \n",
       "2                     470.0                       0.0          5623   \n",
       "3                     450.0                       0.0          5294   \n",
       "4                     450.0                       0.0          5042   \n",
       "\n",
       "   Day-Ahead Price  Carbon Futures  Dutch TTF NG Futures  \n",
       "0            51.10            6.54                19.541  \n",
       "1            49.41            6.54                19.541  \n",
       "2            49.42            6.54                19.541  \n",
       "3            49.45            6.54                19.541  \n",
       "4            48.97            6.54                19.541  "
      ]
     },
     "execution_count": 29,
     "metadata": {},
     "output_type": "execute_result"
    }
   ],
   "source": [
    "df.head()"
   ]
  },
  {
   "cell_type": "code",
   "execution_count": 30,
   "id": "9ebbeaba",
   "metadata": {},
   "outputs": [
    {
     "data": {
      "text/html": [
       "<div>\n",
       "<style scoped>\n",
       "    .dataframe tbody tr th:only-of-type {\n",
       "        vertical-align: middle;\n",
       "    }\n",
       "\n",
       "    .dataframe tbody tr th {\n",
       "        vertical-align: top;\n",
       "    }\n",
       "\n",
       "    .dataframe thead th {\n",
       "        text-align: right;\n",
       "    }\n",
       "</style>\n",
       "<table border=\"1\" class=\"dataframe\">\n",
       "  <thead>\n",
       "    <tr style=\"text-align: right;\">\n",
       "      <th></th>\n",
       "      <th>Unnamed: 0</th>\n",
       "      <th>Datetime UTC</th>\n",
       "      <th>Datetime EET(UTC+2/UTC+3)</th>\n",
       "      <th>Wind Generation Forecast</th>\n",
       "      <th>Solar Generation Forcast</th>\n",
       "      <th>Load Forcast</th>\n",
       "      <th>Day-Ahead Price</th>\n",
       "      <th>Carbon Futures</th>\n",
       "      <th>Dutch TTF NG Futures</th>\n",
       "    </tr>\n",
       "  </thead>\n",
       "  <tbody>\n",
       "    <tr>\n",
       "      <th>0</th>\n",
       "      <td>0</td>\n",
       "      <td>2016-12-31 22:00:00+00:00</td>\n",
       "      <td>2017-01-01T00:00UTC+02</td>\n",
       "      <td>500.0</td>\n",
       "      <td>0.0</td>\n",
       "      <td>6243</td>\n",
       "      <td>51.10</td>\n",
       "      <td>6.54</td>\n",
       "      <td>19.541</td>\n",
       "    </tr>\n",
       "    <tr>\n",
       "      <th>1</th>\n",
       "      <td>1</td>\n",
       "      <td>2016-12-31 23:00:00+00:00</td>\n",
       "      <td>2017-01-01T01:00UTC+02</td>\n",
       "      <td>480.0</td>\n",
       "      <td>0.0</td>\n",
       "      <td>5793</td>\n",
       "      <td>49.41</td>\n",
       "      <td>6.54</td>\n",
       "      <td>19.541</td>\n",
       "    </tr>\n",
       "    <tr>\n",
       "      <th>2</th>\n",
       "      <td>2</td>\n",
       "      <td>2017-01-01 00:00:00+00:00</td>\n",
       "      <td>2017-01-01T02:00UTC+02</td>\n",
       "      <td>470.0</td>\n",
       "      <td>0.0</td>\n",
       "      <td>5623</td>\n",
       "      <td>49.42</td>\n",
       "      <td>6.54</td>\n",
       "      <td>19.541</td>\n",
       "    </tr>\n",
       "    <tr>\n",
       "      <th>3</th>\n",
       "      <td>3</td>\n",
       "      <td>2017-01-01 01:00:00+00:00</td>\n",
       "      <td>2017-01-01T03:00UTC+02</td>\n",
       "      <td>450.0</td>\n",
       "      <td>0.0</td>\n",
       "      <td>5294</td>\n",
       "      <td>49.45</td>\n",
       "      <td>6.54</td>\n",
       "      <td>19.541</td>\n",
       "    </tr>\n",
       "    <tr>\n",
       "      <th>4</th>\n",
       "      <td>4</td>\n",
       "      <td>2017-01-01 02:00:00+00:00</td>\n",
       "      <td>2017-01-01T04:00UTC+02</td>\n",
       "      <td>450.0</td>\n",
       "      <td>0.0</td>\n",
       "      <td>5042</td>\n",
       "      <td>48.97</td>\n",
       "      <td>6.54</td>\n",
       "      <td>19.541</td>\n",
       "    </tr>\n",
       "  </tbody>\n",
       "</table>\n",
       "</div>"
      ],
      "text/plain": [
       "   Unnamed: 0              Datetime UTC Datetime EET(UTC+2/UTC+3)  \\\n",
       "0           0 2016-12-31 22:00:00+00:00    2017-01-01T00:00UTC+02   \n",
       "1           1 2016-12-31 23:00:00+00:00    2017-01-01T01:00UTC+02   \n",
       "2           2 2017-01-01 00:00:00+00:00    2017-01-01T02:00UTC+02   \n",
       "3           3 2017-01-01 01:00:00+00:00    2017-01-01T03:00UTC+02   \n",
       "4           4 2017-01-01 02:00:00+00:00    2017-01-01T04:00UTC+02   \n",
       "\n",
       "   Wind Generation Forecast  Solar Generation Forcast  Load Forcast  \\\n",
       "0                     500.0                       0.0          6243   \n",
       "1                     480.0                       0.0          5793   \n",
       "2                     470.0                       0.0          5623   \n",
       "3                     450.0                       0.0          5294   \n",
       "4                     450.0                       0.0          5042   \n",
       "\n",
       "   Day-Ahead Price  Carbon Futures  Dutch TTF NG Futures  \n",
       "0            51.10            6.54                19.541  \n",
       "1            49.41            6.54                19.541  \n",
       "2            49.42            6.54                19.541  \n",
       "3            49.45            6.54                19.541  \n",
       "4            48.97            6.54                19.541  "
      ]
     },
     "execution_count": 30,
     "metadata": {},
     "output_type": "execute_result"
    }
   ],
   "source": [
    "# Sort DataFrame in date order\n",
    "df.sort_values(by=[\"Datetime UTC\"], inplace=True, ascending=True)\n",
    "df.head()"
   ]
  },
  {
   "cell_type": "code",
   "execution_count": 31,
   "id": "bfbaf5ad",
   "metadata": {},
   "outputs": [
    {
     "data": {
      "text/plain": [
       "Index(['Unnamed: 0', 'Datetime UTC', 'Datetime EET(UTC+2/UTC+3)',\n",
       "       'Wind Generation Forecast', 'Solar Generation Forcast', 'Load Forcast',\n",
       "       'Day-Ahead Price', 'Carbon Futures', 'Dutch TTF NG Futures'],\n",
       "      dtype='object')"
      ]
     },
     "execution_count": 31,
     "metadata": {},
     "output_type": "execute_result"
    }
   ],
   "source": [
    "df.dropna(inplace=True)\n",
    "df.columns"
   ]
  },
  {
   "cell_type": "code",
   "execution_count": 32,
   "id": "de7b3af4",
   "metadata": {},
   "outputs": [],
   "source": [
    "# Add datetime parameters for Datetime UTC\n",
    "df[\"Year\"] = df[\"Datetime UTC\"].dt.year\n",
    "df[\"Month\"] = df[\"Datetime UTC\"].dt.month\n",
    "df[\"Day\"] = df[\"Datetime UTC\"].dt.day\n",
    "df[\"Dayofweek\"] = df[\"Datetime UTC\"].dt.dayofweek\n",
    "df[\"Dayofyear\"] = df[\"Datetime UTC\"].dt.dayofyear\n",
    "df[\"Hour\"]=df[\"Datetime UTC\"].dt.hour\n",
    "# Drop original date\n",
    "df.drop(\"Datetime UTC\", axis=1, inplace=True)"
   ]
  },
  {
   "cell_type": "code",
   "execution_count": 33,
   "id": "1b67be21",
   "metadata": {},
   "outputs": [
    {
     "data": {
      "text/html": [
       "<div>\n",
       "<style scoped>\n",
       "    .dataframe tbody tr th:only-of-type {\n",
       "        vertical-align: middle;\n",
       "    }\n",
       "\n",
       "    .dataframe tbody tr th {\n",
       "        vertical-align: top;\n",
       "    }\n",
       "\n",
       "    .dataframe thead th {\n",
       "        text-align: right;\n",
       "    }\n",
       "</style>\n",
       "<table border=\"1\" class=\"dataframe\">\n",
       "  <thead>\n",
       "    <tr style=\"text-align: right;\">\n",
       "      <th></th>\n",
       "      <th>Unnamed: 0</th>\n",
       "      <th>Datetime EET(UTC+2/UTC+3)</th>\n",
       "      <th>Wind Generation Forecast</th>\n",
       "      <th>Solar Generation Forcast</th>\n",
       "      <th>Load Forcast</th>\n",
       "      <th>Day-Ahead Price</th>\n",
       "      <th>Carbon Futures</th>\n",
       "      <th>Dutch TTF NG Futures</th>\n",
       "      <th>Year</th>\n",
       "      <th>Month</th>\n",
       "      <th>Day</th>\n",
       "      <th>Dayofweek</th>\n",
       "      <th>Dayofyear</th>\n",
       "      <th>Hour</th>\n",
       "    </tr>\n",
       "  </thead>\n",
       "  <tbody>\n",
       "    <tr>\n",
       "      <th>0</th>\n",
       "      <td>0</td>\n",
       "      <td>2017-01-01T00:00UTC+02</td>\n",
       "      <td>500.0</td>\n",
       "      <td>0.0</td>\n",
       "      <td>6243</td>\n",
       "      <td>51.10</td>\n",
       "      <td>6.54</td>\n",
       "      <td>19.541</td>\n",
       "      <td>2016</td>\n",
       "      <td>12</td>\n",
       "      <td>31</td>\n",
       "      <td>5</td>\n",
       "      <td>366</td>\n",
       "      <td>22</td>\n",
       "    </tr>\n",
       "    <tr>\n",
       "      <th>1</th>\n",
       "      <td>1</td>\n",
       "      <td>2017-01-01T01:00UTC+02</td>\n",
       "      <td>480.0</td>\n",
       "      <td>0.0</td>\n",
       "      <td>5793</td>\n",
       "      <td>49.41</td>\n",
       "      <td>6.54</td>\n",
       "      <td>19.541</td>\n",
       "      <td>2016</td>\n",
       "      <td>12</td>\n",
       "      <td>31</td>\n",
       "      <td>5</td>\n",
       "      <td>366</td>\n",
       "      <td>23</td>\n",
       "    </tr>\n",
       "    <tr>\n",
       "      <th>2</th>\n",
       "      <td>2</td>\n",
       "      <td>2017-01-01T02:00UTC+02</td>\n",
       "      <td>470.0</td>\n",
       "      <td>0.0</td>\n",
       "      <td>5623</td>\n",
       "      <td>49.42</td>\n",
       "      <td>6.54</td>\n",
       "      <td>19.541</td>\n",
       "      <td>2017</td>\n",
       "      <td>1</td>\n",
       "      <td>1</td>\n",
       "      <td>6</td>\n",
       "      <td>1</td>\n",
       "      <td>0</td>\n",
       "    </tr>\n",
       "    <tr>\n",
       "      <th>3</th>\n",
       "      <td>3</td>\n",
       "      <td>2017-01-01T03:00UTC+02</td>\n",
       "      <td>450.0</td>\n",
       "      <td>0.0</td>\n",
       "      <td>5294</td>\n",
       "      <td>49.45</td>\n",
       "      <td>6.54</td>\n",
       "      <td>19.541</td>\n",
       "      <td>2017</td>\n",
       "      <td>1</td>\n",
       "      <td>1</td>\n",
       "      <td>6</td>\n",
       "      <td>1</td>\n",
       "      <td>1</td>\n",
       "    </tr>\n",
       "    <tr>\n",
       "      <th>4</th>\n",
       "      <td>4</td>\n",
       "      <td>2017-01-01T04:00UTC+02</td>\n",
       "      <td>450.0</td>\n",
       "      <td>0.0</td>\n",
       "      <td>5042</td>\n",
       "      <td>48.97</td>\n",
       "      <td>6.54</td>\n",
       "      <td>19.541</td>\n",
       "      <td>2017</td>\n",
       "      <td>1</td>\n",
       "      <td>1</td>\n",
       "      <td>6</td>\n",
       "      <td>1</td>\n",
       "      <td>2</td>\n",
       "    </tr>\n",
       "  </tbody>\n",
       "</table>\n",
       "</div>"
      ],
      "text/plain": [
       "   Unnamed: 0 Datetime EET(UTC+2/UTC+3)  Wind Generation Forecast  \\\n",
       "0           0    2017-01-01T00:00UTC+02                     500.0   \n",
       "1           1    2017-01-01T01:00UTC+02                     480.0   \n",
       "2           2    2017-01-01T02:00UTC+02                     470.0   \n",
       "3           3    2017-01-01T03:00UTC+02                     450.0   \n",
       "4           4    2017-01-01T04:00UTC+02                     450.0   \n",
       "\n",
       "   Solar Generation Forcast  Load Forcast  Day-Ahead Price  Carbon Futures  \\\n",
       "0                       0.0          6243            51.10            6.54   \n",
       "1                       0.0          5793            49.41            6.54   \n",
       "2                       0.0          5623            49.42            6.54   \n",
       "3                       0.0          5294            49.45            6.54   \n",
       "4                       0.0          5042            48.97            6.54   \n",
       "\n",
       "   Dutch TTF NG Futures  Year  Month  Day  Dayofweek  Dayofyear  Hour  \n",
       "0                19.541  2016     12   31          5        366    22  \n",
       "1                19.541  2016     12   31          5        366    23  \n",
       "2                19.541  2017      1    1          6          1     0  \n",
       "3                19.541  2017      1    1          6          1     1  \n",
       "4                19.541  2017      1    1          6          1     2  "
      ]
     },
     "execution_count": 33,
     "metadata": {},
     "output_type": "execute_result"
    }
   ],
   "source": [
    "df.head()"
   ]
  },
  {
   "cell_type": "code",
   "execution_count": 34,
   "id": "3a336f92",
   "metadata": {},
   "outputs": [],
   "source": [
    "# Function to return a dataframe of all spikes in a specific year\n",
    "def thres(year):\n",
    "    # Get all electricity prices\n",
    "    prices=df[df[\"Year\"]==year][\"Day-Ahead Price\"].copy()\n",
    "    prices.sort_values(ascending=True,inplace=True)\n",
    "    prices=prices.reset_index()\n",
    "    neg_thres=prices.loc[int(len(prices)*0.05)][1]\n",
    "    pos_thres=prices.loc[int(len(prices)*0.95)][1]\n",
    "    return [neg_thres,pos_thres]"
   ]
  },
  {
   "cell_type": "code",
   "execution_count": 35,
   "id": "0f8f1214",
   "metadata": {},
   "outputs": [],
   "source": [
    "temp={}\n",
    "for year in range(2016,2023+1):\n",
    "    temp[year]=thres(year)"
   ]
  },
  {
   "cell_type": "code",
   "execution_count": 36,
   "id": "2f7d0ab0",
   "metadata": {},
   "outputs": [
    {
     "data": {
      "text/plain": [
       "{2016: [49.41, 51.1],\n",
       " 2017: [38.07, 82.0],\n",
       " 2018: [41.52, 76.2],\n",
       " 2019: [39.66, 80.65],\n",
       " 2020: [22.0, 76.03],\n",
       " 2021: [41.6, 270.33],\n",
       " 2022: [139.95, 503.86],\n",
       " 2023: [59.27, 261.22]}"
      ]
     },
     "execution_count": 36,
     "metadata": {},
     "output_type": "execute_result"
    }
   ],
   "source": [
    "temp"
   ]
  },
  {
   "cell_type": "code",
   "execution_count": 37,
   "id": "a46bd979",
   "metadata": {},
   "outputs": [],
   "source": [
    "# Function that returns 1 for spike\n",
    "def is_spike(price,year):\n",
    "    if (price<temp[year][0] or price>temp[year][1]):\n",
    "        return 1\n",
    "    else:\n",
    "        return 0"
   ]
  },
  {
   "cell_type": "markdown",
   "id": "7517074e",
   "metadata": {},
   "source": [
    "### We will add a column to the dataframe, which indicates whether the price is a spike (1) or not (0)"
   ]
  },
  {
   "cell_type": "code",
   "execution_count": 38,
   "id": "7e95cc19",
   "metadata": {},
   "outputs": [],
   "source": [
    "df['Spike'] = df.apply(lambda x: is_spike(x['Day-Ahead Price'],x['Year']), axis=1)"
   ]
  },
  {
   "cell_type": "code",
   "execution_count": 39,
   "id": "71c50ac8",
   "metadata": {},
   "outputs": [
    {
     "data": {
      "text/html": [
       "<div>\n",
       "<style scoped>\n",
       "    .dataframe tbody tr th:only-of-type {\n",
       "        vertical-align: middle;\n",
       "    }\n",
       "\n",
       "    .dataframe tbody tr th {\n",
       "        vertical-align: top;\n",
       "    }\n",
       "\n",
       "    .dataframe thead th {\n",
       "        text-align: right;\n",
       "    }\n",
       "</style>\n",
       "<table border=\"1\" class=\"dataframe\">\n",
       "  <thead>\n",
       "    <tr style=\"text-align: right;\">\n",
       "      <th></th>\n",
       "      <th>Unnamed: 0</th>\n",
       "      <th>Datetime EET(UTC+2/UTC+3)</th>\n",
       "      <th>Wind Generation Forecast</th>\n",
       "      <th>Solar Generation Forcast</th>\n",
       "      <th>Load Forcast</th>\n",
       "      <th>Day-Ahead Price</th>\n",
       "      <th>Carbon Futures</th>\n",
       "      <th>Dutch TTF NG Futures</th>\n",
       "      <th>Year</th>\n",
       "      <th>Month</th>\n",
       "      <th>Day</th>\n",
       "      <th>Dayofweek</th>\n",
       "      <th>Dayofyear</th>\n",
       "      <th>Hour</th>\n",
       "      <th>Spike</th>\n",
       "    </tr>\n",
       "  </thead>\n",
       "  <tbody>\n",
       "    <tr>\n",
       "      <th>0</th>\n",
       "      <td>0</td>\n",
       "      <td>2017-01-01T00:00UTC+02</td>\n",
       "      <td>500.0</td>\n",
       "      <td>0.0</td>\n",
       "      <td>6243</td>\n",
       "      <td>51.10</td>\n",
       "      <td>6.54</td>\n",
       "      <td>19.541</td>\n",
       "      <td>2016</td>\n",
       "      <td>12</td>\n",
       "      <td>31</td>\n",
       "      <td>5</td>\n",
       "      <td>366</td>\n",
       "      <td>22</td>\n",
       "      <td>0</td>\n",
       "    </tr>\n",
       "    <tr>\n",
       "      <th>1</th>\n",
       "      <td>1</td>\n",
       "      <td>2017-01-01T01:00UTC+02</td>\n",
       "      <td>480.0</td>\n",
       "      <td>0.0</td>\n",
       "      <td>5793</td>\n",
       "      <td>49.41</td>\n",
       "      <td>6.54</td>\n",
       "      <td>19.541</td>\n",
       "      <td>2016</td>\n",
       "      <td>12</td>\n",
       "      <td>31</td>\n",
       "      <td>5</td>\n",
       "      <td>366</td>\n",
       "      <td>23</td>\n",
       "      <td>0</td>\n",
       "    </tr>\n",
       "    <tr>\n",
       "      <th>2</th>\n",
       "      <td>2</td>\n",
       "      <td>2017-01-01T02:00UTC+02</td>\n",
       "      <td>470.0</td>\n",
       "      <td>0.0</td>\n",
       "      <td>5623</td>\n",
       "      <td>49.42</td>\n",
       "      <td>6.54</td>\n",
       "      <td>19.541</td>\n",
       "      <td>2017</td>\n",
       "      <td>1</td>\n",
       "      <td>1</td>\n",
       "      <td>6</td>\n",
       "      <td>1</td>\n",
       "      <td>0</td>\n",
       "      <td>0</td>\n",
       "    </tr>\n",
       "    <tr>\n",
       "      <th>3</th>\n",
       "      <td>3</td>\n",
       "      <td>2017-01-01T03:00UTC+02</td>\n",
       "      <td>450.0</td>\n",
       "      <td>0.0</td>\n",
       "      <td>5294</td>\n",
       "      <td>49.45</td>\n",
       "      <td>6.54</td>\n",
       "      <td>19.541</td>\n",
       "      <td>2017</td>\n",
       "      <td>1</td>\n",
       "      <td>1</td>\n",
       "      <td>6</td>\n",
       "      <td>1</td>\n",
       "      <td>1</td>\n",
       "      <td>0</td>\n",
       "    </tr>\n",
       "    <tr>\n",
       "      <th>4</th>\n",
       "      <td>4</td>\n",
       "      <td>2017-01-01T04:00UTC+02</td>\n",
       "      <td>450.0</td>\n",
       "      <td>0.0</td>\n",
       "      <td>5042</td>\n",
       "      <td>48.97</td>\n",
       "      <td>6.54</td>\n",
       "      <td>19.541</td>\n",
       "      <td>2017</td>\n",
       "      <td>1</td>\n",
       "      <td>1</td>\n",
       "      <td>6</td>\n",
       "      <td>1</td>\n",
       "      <td>2</td>\n",
       "      <td>0</td>\n",
       "    </tr>\n",
       "  </tbody>\n",
       "</table>\n",
       "</div>"
      ],
      "text/plain": [
       "   Unnamed: 0 Datetime EET(UTC+2/UTC+3)  Wind Generation Forecast  \\\n",
       "0           0    2017-01-01T00:00UTC+02                     500.0   \n",
       "1           1    2017-01-01T01:00UTC+02                     480.0   \n",
       "2           2    2017-01-01T02:00UTC+02                     470.0   \n",
       "3           3    2017-01-01T03:00UTC+02                     450.0   \n",
       "4           4    2017-01-01T04:00UTC+02                     450.0   \n",
       "\n",
       "   Solar Generation Forcast  Load Forcast  Day-Ahead Price  Carbon Futures  \\\n",
       "0                       0.0          6243            51.10            6.54   \n",
       "1                       0.0          5793            49.41            6.54   \n",
       "2                       0.0          5623            49.42            6.54   \n",
       "3                       0.0          5294            49.45            6.54   \n",
       "4                       0.0          5042            48.97            6.54   \n",
       "\n",
       "   Dutch TTF NG Futures  Year  Month  Day  Dayofweek  Dayofyear  Hour  Spike  \n",
       "0                19.541  2016     12   31          5        366    22      0  \n",
       "1                19.541  2016     12   31          5        366    23      0  \n",
       "2                19.541  2017      1    1          6          1     0      0  \n",
       "3                19.541  2017      1    1          6          1     1      0  \n",
       "4                19.541  2017      1    1          6          1     2      0  "
      ]
     },
     "execution_count": 39,
     "metadata": {},
     "output_type": "execute_result"
    }
   ],
   "source": [
    "df.head()"
   ]
  },
  {
   "cell_type": "code",
   "execution_count": 40,
   "id": "e191ee50",
   "metadata": {},
   "outputs": [
    {
     "data": {
      "text/plain": [
       "5345"
      ]
     },
     "execution_count": 40,
     "metadata": {},
     "output_type": "execute_result"
    }
   ],
   "source": [
    "df['Spike'].sum()"
   ]
  },
  {
   "cell_type": "markdown",
   "id": "bf8e6b1d",
   "metadata": {},
   "source": [
    "### Now our target is the Spike variable"
   ]
  },
  {
   "cell_type": "code",
   "execution_count": 41,
   "id": "eef81c71",
   "metadata": {},
   "outputs": [],
   "source": [
    "df1=df.copy()\n",
    "df1.drop(['Day-Ahead Price'],axis=1,inplace=True)"
   ]
  },
  {
   "cell_type": "code",
   "execution_count": 42,
   "id": "c14c3ada",
   "metadata": {},
   "outputs": [
    {
     "data": {
      "text/html": [
       "<div>\n",
       "<style scoped>\n",
       "    .dataframe tbody tr th:only-of-type {\n",
       "        vertical-align: middle;\n",
       "    }\n",
       "\n",
       "    .dataframe tbody tr th {\n",
       "        vertical-align: top;\n",
       "    }\n",
       "\n",
       "    .dataframe thead th {\n",
       "        text-align: right;\n",
       "    }\n",
       "</style>\n",
       "<table border=\"1\" class=\"dataframe\">\n",
       "  <thead>\n",
       "    <tr style=\"text-align: right;\">\n",
       "      <th></th>\n",
       "      <th>Unnamed: 0</th>\n",
       "      <th>Datetime EET(UTC+2/UTC+3)</th>\n",
       "      <th>Wind Generation Forecast</th>\n",
       "      <th>Solar Generation Forcast</th>\n",
       "      <th>Load Forcast</th>\n",
       "      <th>Carbon Futures</th>\n",
       "      <th>Dutch TTF NG Futures</th>\n",
       "      <th>Year</th>\n",
       "      <th>Month</th>\n",
       "      <th>Day</th>\n",
       "      <th>Dayofweek</th>\n",
       "      <th>Dayofyear</th>\n",
       "      <th>Hour</th>\n",
       "      <th>Spike</th>\n",
       "    </tr>\n",
       "  </thead>\n",
       "  <tbody>\n",
       "    <tr>\n",
       "      <th>0</th>\n",
       "      <td>0</td>\n",
       "      <td>2017-01-01T00:00UTC+02</td>\n",
       "      <td>500.0</td>\n",
       "      <td>0.0</td>\n",
       "      <td>6243</td>\n",
       "      <td>6.54</td>\n",
       "      <td>19.541</td>\n",
       "      <td>2016</td>\n",
       "      <td>12</td>\n",
       "      <td>31</td>\n",
       "      <td>5</td>\n",
       "      <td>366</td>\n",
       "      <td>22</td>\n",
       "      <td>0</td>\n",
       "    </tr>\n",
       "    <tr>\n",
       "      <th>1</th>\n",
       "      <td>1</td>\n",
       "      <td>2017-01-01T01:00UTC+02</td>\n",
       "      <td>480.0</td>\n",
       "      <td>0.0</td>\n",
       "      <td>5793</td>\n",
       "      <td>6.54</td>\n",
       "      <td>19.541</td>\n",
       "      <td>2016</td>\n",
       "      <td>12</td>\n",
       "      <td>31</td>\n",
       "      <td>5</td>\n",
       "      <td>366</td>\n",
       "      <td>23</td>\n",
       "      <td>0</td>\n",
       "    </tr>\n",
       "    <tr>\n",
       "      <th>2</th>\n",
       "      <td>2</td>\n",
       "      <td>2017-01-01T02:00UTC+02</td>\n",
       "      <td>470.0</td>\n",
       "      <td>0.0</td>\n",
       "      <td>5623</td>\n",
       "      <td>6.54</td>\n",
       "      <td>19.541</td>\n",
       "      <td>2017</td>\n",
       "      <td>1</td>\n",
       "      <td>1</td>\n",
       "      <td>6</td>\n",
       "      <td>1</td>\n",
       "      <td>0</td>\n",
       "      <td>0</td>\n",
       "    </tr>\n",
       "    <tr>\n",
       "      <th>3</th>\n",
       "      <td>3</td>\n",
       "      <td>2017-01-01T03:00UTC+02</td>\n",
       "      <td>450.0</td>\n",
       "      <td>0.0</td>\n",
       "      <td>5294</td>\n",
       "      <td>6.54</td>\n",
       "      <td>19.541</td>\n",
       "      <td>2017</td>\n",
       "      <td>1</td>\n",
       "      <td>1</td>\n",
       "      <td>6</td>\n",
       "      <td>1</td>\n",
       "      <td>1</td>\n",
       "      <td>0</td>\n",
       "    </tr>\n",
       "    <tr>\n",
       "      <th>4</th>\n",
       "      <td>4</td>\n",
       "      <td>2017-01-01T04:00UTC+02</td>\n",
       "      <td>450.0</td>\n",
       "      <td>0.0</td>\n",
       "      <td>5042</td>\n",
       "      <td>6.54</td>\n",
       "      <td>19.541</td>\n",
       "      <td>2017</td>\n",
       "      <td>1</td>\n",
       "      <td>1</td>\n",
       "      <td>6</td>\n",
       "      <td>1</td>\n",
       "      <td>2</td>\n",
       "      <td>0</td>\n",
       "    </tr>\n",
       "  </tbody>\n",
       "</table>\n",
       "</div>"
      ],
      "text/plain": [
       "   Unnamed: 0 Datetime EET(UTC+2/UTC+3)  Wind Generation Forecast  \\\n",
       "0           0    2017-01-01T00:00UTC+02                     500.0   \n",
       "1           1    2017-01-01T01:00UTC+02                     480.0   \n",
       "2           2    2017-01-01T02:00UTC+02                     470.0   \n",
       "3           3    2017-01-01T03:00UTC+02                     450.0   \n",
       "4           4    2017-01-01T04:00UTC+02                     450.0   \n",
       "\n",
       "   Solar Generation Forcast  Load Forcast  Carbon Futures  \\\n",
       "0                       0.0          6243            6.54   \n",
       "1                       0.0          5793            6.54   \n",
       "2                       0.0          5623            6.54   \n",
       "3                       0.0          5294            6.54   \n",
       "4                       0.0          5042            6.54   \n",
       "\n",
       "   Dutch TTF NG Futures  Year  Month  Day  Dayofweek  Dayofyear  Hour  Spike  \n",
       "0                19.541  2016     12   31          5        366    22      0  \n",
       "1                19.541  2016     12   31          5        366    23      0  \n",
       "2                19.541  2017      1    1          6          1     0      0  \n",
       "3                19.541  2017      1    1          6          1     1      0  \n",
       "4                19.541  2017      1    1          6          1     2      0  "
      ]
     },
     "execution_count": 42,
     "metadata": {},
     "output_type": "execute_result"
    }
   ],
   "source": [
    "df1.head()"
   ]
  },
  {
   "cell_type": "markdown",
   "id": "5e7904ab",
   "metadata": {},
   "source": [
    "### Split the data into X & Y"
   ]
  },
  {
   "cell_type": "code",
   "execution_count": 43,
   "id": "a293e5a6",
   "metadata": {},
   "outputs": [],
   "source": [
    "X=df1.drop([\"Spike\",\"Unnamed: 0\",\"Datetime EET(UTC+2/UTC+3)\"],axis=1)\n",
    "y=df1[\"Spike\"]"
   ]
  },
  {
   "cell_type": "code",
   "execution_count": 44,
   "id": "887f1987",
   "metadata": {},
   "outputs": [],
   "source": [
    "from sklearn.model_selection import train_test_split\n",
    "X_train, X_test, y_train, y_test = train_test_split(X,y,test_size=0.2,shuffle=False)"
   ]
  },
  {
   "cell_type": "code",
   "execution_count": 45,
   "id": "93a4d151",
   "metadata": {},
   "outputs": [],
   "source": [
    "X_train_sequence=X_train.values.tolist()"
   ]
  },
  {
   "cell_type": "code",
   "execution_count": 46,
   "id": "c5935926",
   "metadata": {},
   "outputs": [
    {
     "data": {
      "text/plain": [
       "(42911, 11)"
      ]
     },
     "execution_count": 46,
     "metadata": {},
     "output_type": "execute_result"
    }
   ],
   "source": [
    "X_train.shape"
   ]
  },
  {
   "cell_type": "code",
   "execution_count": 47,
   "id": "83922089",
   "metadata": {},
   "outputs": [],
   "source": [
    "y_train_sequence=y_train.values.tolist()"
   ]
  },
  {
   "cell_type": "code",
   "execution_count": 48,
   "id": "59680d43",
   "metadata": {},
   "outputs": [],
   "source": [
    "for i in range (len(X_train_sequence)):\n",
    "    for j in range(11):\n",
    "        X_train_sequence[i][j]=[X_train_sequence[i][j]]"
   ]
  },
  {
   "cell_type": "code",
   "execution_count": 49,
   "id": "03079e6a",
   "metadata": {},
   "outputs": [],
   "source": [
    "X_train_sequence1=np.array(X_train_sequence)\n",
    "y_train_sequence1=np.array(y_train_sequence)"
   ]
  },
  {
   "cell_type": "markdown",
   "id": "7d93b618",
   "metadata": {},
   "source": [
    "### Create the transformer encoder"
   ]
  },
  {
   "cell_type": "code",
   "execution_count": 50,
   "id": "bc8ae387",
   "metadata": {},
   "outputs": [],
   "source": [
    "from tensorflow import keras\n",
    "from tensorflow.keras import layers\n",
    "\n",
    "def transformer_encoder(inputs, head_size, num_heads, ff_dim, dropout=0):\n",
    "    # Normalization and Attention\n",
    "    x = layers.LayerNormalization(epsilon=1e-6)(inputs)\n",
    "    x = layers.MultiHeadAttention(\n",
    "        key_dim=head_size, num_heads=num_heads, dropout=dropout\n",
    "    )(x, x)\n",
    "    x = layers.Dropout(dropout)(x)\n",
    "    res = x + inputs\n",
    "\n",
    "    # Feed Forward Part\n",
    "    x = layers.LayerNormalization(epsilon=1e-6)(res)\n",
    "    x = layers.Conv1D(filters=ff_dim, kernel_size=1, activation=\"relu\")(x)\n",
    "    x = layers.Dropout(dropout)(x)\n",
    "    x = layers.Conv1D(filters=inputs.shape[-1], kernel_size=1)(x)\n",
    "    return x + res"
   ]
  },
  {
   "cell_type": "markdown",
   "id": "2c0cb459",
   "metadata": {},
   "source": [
    "### Function to build model"
   ]
  },
  {
   "cell_type": "code",
   "execution_count": 51,
   "id": "fa954729",
   "metadata": {},
   "outputs": [],
   "source": [
    "def build_model(\n",
    "    input_shape,\n",
    "    head_size,\n",
    "    num_heads,\n",
    "    ff_dim,\n",
    "    num_transformer_blocks,\n",
    "    mlp_units,\n",
    "    dropout=0,\n",
    "    mlp_dropout=0,\n",
    "):\n",
    "    inputs = keras.Input(shape=input_shape)\n",
    "    x = inputs\n",
    "    for _ in range(num_transformer_blocks):\n",
    "        x = transformer_encoder(x, head_size, num_heads, ff_dim, dropout)\n",
    "\n",
    "    x = layers.GlobalAveragePooling1D(data_format=\"channels_first\")(x)\n",
    "    for dim in mlp_units:\n",
    "        x = layers.Dense(dim, activation=\"relu\")(x)\n",
    "        x = layers.Dropout(mlp_dropout)(x)\n",
    "    outputs = layers.Dense(1)(x)\n",
    "    return keras.Model(inputs, outputs)"
   ]
  },
  {
   "cell_type": "code",
   "execution_count": 53,
   "id": "14c369ae",
   "metadata": {},
   "outputs": [
    {
     "name": "stdout",
     "output_type": "stream",
     "text": [
      "Epoch 1/200\n",
      "537/537 [==============================] - 58s 99ms/step - loss: 3.7190 - accuracy: 0.7569 - val_loss: 1.2742 - val_accuracy: 0.9174\n",
      "Epoch 2/200\n",
      "537/537 [==============================] - 51s 95ms/step - loss: 2.3042 - accuracy: 0.8499 - val_loss: 1.2742 - val_accuracy: 0.9174\n",
      "Epoch 3/200\n",
      "537/537 [==============================] - 50s 94ms/step - loss: 1.9794 - accuracy: 0.8713 - val_loss: 1.2742 - val_accuracy: 0.9174\n",
      "Epoch 4/200\n",
      "537/537 [==============================] - 63s 117ms/step - loss: 1.8227 - accuracy: 0.8816 - val_loss: 1.2742 - val_accuracy: 0.9174\n",
      "Epoch 5/200\n",
      "537/537 [==============================] - 48s 89ms/step - loss: 1.7644 - accuracy: 0.8855 - val_loss: 1.2742 - val_accuracy: 0.9174\n",
      "Epoch 6/200\n",
      "537/537 [==============================] - 52s 97ms/step - loss: 1.7374 - accuracy: 0.8872 - val_loss: 1.2742 - val_accuracy: 0.9174\n",
      "Epoch 7/200\n",
      "537/537 [==============================] - 51s 95ms/step - loss: 1.7241 - accuracy: 0.8881 - val_loss: 1.2742 - val_accuracy: 0.9174\n",
      "Epoch 8/200\n",
      "537/537 [==============================] - 66s 123ms/step - loss: 1.7140 - accuracy: 0.8887 - val_loss: 1.2742 - val_accuracy: 0.9174\n",
      "Epoch 9/200\n",
      "537/537 [==============================] - 65s 120ms/step - loss: 1.6878 - accuracy: 0.8905 - val_loss: 1.2742 - val_accuracy: 0.9174\n",
      "Epoch 10/200\n",
      "537/537 [==============================] - 59s 109ms/step - loss: 1.6727 - accuracy: 0.8915 - val_loss: 1.2742 - val_accuracy: 0.9174\n",
      "Epoch 11/200\n",
      "537/537 [==============================] - 52s 97ms/step - loss: 1.6278 - accuracy: 0.8944 - val_loss: 1.2742 - val_accuracy: 0.9174\n"
     ]
    },
    {
     "data": {
      "text/plain": [
       "<keras.callbacks.History at 0x2359608a6e0>"
      ]
     },
     "execution_count": 53,
     "metadata": {},
     "output_type": "execute_result"
    }
   ],
   "source": [
    "input_shape=X_train_sequence1.shape[1:]\n",
    "model=build_model(input_shape,head_size=256,num_heads=4,ff_dim=8,num_transformer_blocks=2,mlp_units=[128],mlp_dropout=0.4,dropout=0.25)\n",
    "model.compile(\n",
    "    loss=\"binary_crossentropy\",\n",
    "    optimizer=keras.optimizers.Adam(learning_rate=1e-4),\n",
    "    metrics=[\"accuracy\"],\n",
    ")\n",
    "callbacks=[keras.callbacks.EarlyStopping(patience=10,restore_best_weights=True)]\n",
    "model.fit(X_train_sequence1,y_train_sequence1,validation_split=0.2,epochs=200,batch_size=64,callbacks=callbacks)\n"
   ]
  },
  {
   "cell_type": "code",
   "execution_count": 54,
   "id": "036e1280",
   "metadata": {},
   "outputs": [],
   "source": [
    "X_test_sequence=X_test.values.tolist()\n",
    "y_test_sequence=y_test.values.tolist()\n",
    "X_test_sequence1=np.array(X_test_sequence)\n",
    "y_test_sequence1=np.array(y_test_sequence)"
   ]
  },
  {
   "cell_type": "code",
   "execution_count": 55,
   "id": "8c3aa741",
   "metadata": {},
   "outputs": [
    {
     "name": "stdout",
     "output_type": "stream",
     "text": [
      "336/336 [==============================] - 6s 16ms/step\n"
     ]
    }
   ],
   "source": [
    "predictions=model.predict(X_test_sequence1)"
   ]
  },
  {
   "cell_type": "code",
   "execution_count": 56,
   "id": "7403bc93",
   "metadata": {},
   "outputs": [
    {
     "data": {
      "text/plain": [
       "array([[-1119.5999 ],\n",
       "       [ -990.5022 ],\n",
       "       [ -888.1051 ],\n",
       "       ...,\n",
       "       [ -939.62396],\n",
       "       [ -860.8934 ],\n",
       "       [ -797.35   ]], dtype=float32)"
      ]
     },
     "execution_count": 56,
     "metadata": {},
     "output_type": "execute_result"
    }
   ],
   "source": [
    "predictions"
   ]
  },
  {
   "cell_type": "code",
   "execution_count": null,
   "id": "d9bfcaa4",
   "metadata": {},
   "outputs": [],
   "source": []
  }
 ],
 "metadata": {
  "kernelspec": {
   "display_name": "Python 3 (ipykernel)",
   "language": "python",
   "name": "python3"
  },
  "language_info": {
   "codemirror_mode": {
    "name": "ipython",
    "version": 3
   },
   "file_extension": ".py",
   "mimetype": "text/x-python",
   "name": "python",
   "nbconvert_exporter": "python",
   "pygments_lexer": "ipython3",
   "version": "3.10.12"
  }
 },
 "nbformat": 4,
 "nbformat_minor": 5
}
